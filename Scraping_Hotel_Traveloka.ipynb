{
  "cells": [
    {
      "cell_type": "markdown",
      "metadata": {
        "id": "view-in-github",
        "colab_type": "text"
      },
      "source": [
        "<a href=\"https://colab.research.google.com/github/akbarriki/scraping_traveloka/blob/main/Scraping_Hotel_Traveloka.ipynb\" target=\"_parent\"><img src=\"https://colab.research.google.com/assets/colab-badge.svg\" alt=\"Open In Colab\"/></a>"
      ]
    },
    {
      "cell_type": "markdown",
      "source": [
        "### Initialisation"
      ],
      "metadata": {
        "id": "cb67d13pkCGa"
      }
    },
    {
      "cell_type": "code",
      "source": [
        "import pandas as pd\n",
        "import numpy as np\n",
        "import requests, json, math, datetime\n",
        "from tqdm import tqdm\n",
        "from datetime import datetime as dt\n",
        "from datetime import date\n",
        "from urllib.parse import quote\n",
        "\n",
        "# cities and the corresponding geocodes\n",
        "city_geocodes = {\n",
        "    'Jakarta': 102813,\n",
        "    'Bandung': 103859,\n",
        "    'Medan': 106161,\n",
        "    'Denpasar': 102747,\n",
        "    'Banda Aceh': 101116,\n",
        "    'Padang': 101687,\n",
        "    'Palembang':101980,\n",
        "    'Bogor': 103909,\n",
        "    'Semarang': 106587,\n",
        "    'Yogyakarta': 107442,\n",
        "    'Solo': 106469,\n",
        "    'Surabaya': 103570\n",
        "}\n",
        "\n",
        "\n",
        "# api url\n",
        "api_url = 'https://www.traveloka.com/api/v2/hotel/searchList'\n",
        "\n",
        "# all the collected data will be stored in this list\n",
        "_data_ = []"
      ],
      "metadata": {
        "id": "IAtYdhsvjyLQ"
      },
      "execution_count": 1,
      "outputs": []
    },
    {
      "cell_type": "markdown",
      "source": [
        "###Functions"
      ],
      "metadata": {
        "id": "GtBNiz5AnWpT"
      }
    },
    {
      "cell_type": "code",
      "execution_count": 2,
      "metadata": {
        "id": "crKDt6YD6zsY"
      },
      "outputs": [],
      "source": [
        "# padding the number with '0' into two-digit format \n",
        "def padNumber(num):\n",
        "  return str(num).rjust(2,'0')\n",
        "\n",
        "\n",
        "# collect data based on the selected reservation at each city in `cities`\n",
        "def collectData(response):\n",
        "  global columns\n",
        "  hotels = []\n",
        "  \n",
        "  for _, entry in enumerate(tqdm(response['data']['entries'])):\n",
        "    try:\n",
        "      sample = entry['data']['inventoryList'][0]\n",
        "    except:      \n",
        "      sample = entry['data']\n",
        "    \n",
        "    record = {'timestamp': dt.now(), 'city': city,'checkin': startdate,'checkout': enddate,'num_staying_nights':checkin_numnights}\n",
        "\n",
        "    # try:\n",
        "    #   print(sample['displayName'])\n",
        "    # except:\n",
        "    #   print(sample)\n",
        "    #   break\n",
        "    \n",
        "\n",
        "    for c in columns:\n",
        "      try:\n",
        "        if c == 'hotelFeatures':\n",
        "          record.update({c:', '.join([c_['text'] for c_ in sample[c]])})\n",
        "          continue\n",
        "        if c == 'hotelInventorySummary':\n",
        "          record.update({\n",
        "              'cheapestRate_allNights_baseFare': sample[c]['cheapestRateDisplay']['baseFare']['amount'],\n",
        "              'cheapestRate_allNights_fees': sample[c]['cheapestRateDisplay']['fees']['amount'],\n",
        "              'cheapestRate_allNights_taxes': sample[c]['cheapestRateDisplay']['taxes']['amount'],\n",
        "              'cheapestRate_allNights_totalFare': sample[c]['cheapestRateDisplay']['totalFare']['amount'],\n",
        "              'cheapestRate_perNight_baseFare': int(float(sample[c]['cheapestRateDisplay']['baseFare']['amount']) / checkin_numnights),\n",
        "              'cheapestRate_perNight_fees': round(float(sample[c]['cheapestRateDisplay']['fees']['amount']) / checkin_numnights,2),\n",
        "              'cheapestRate_perNight_taxes': round(float(sample[c]['cheapestRateDisplay']['taxes']['amount']) / checkin_numnights,2),\n",
        "              'cheapestRate_perNight_totalFare': round(float(sample[c]['cheapestRateDisplay']['totalFare']['amount']) / checkin_numnights),\n",
        "              'originalRate_allNights_baseFare': sample[c]['originalRateDisplay']['baseFare']['amount'],\n",
        "              'originalRate_allNights_fees': sample[c]['originalRateDisplay']['fees']['amount'],\n",
        "              'originalRate_allNights_taxes': sample[c]['originalRateDisplay']['taxes']['amount'],\n",
        "              'originalRate_allNights_totalFare': sample[c]['originalRateDisplay']['totalFare']['amount'],\n",
        "              'originalRate_perNight_baseFare': int(float(sample[c]['originalRateDisplay']['baseFare']['amount']) / checkin_numnights),\n",
        "              'originalRate_perNight_fees': round(float(sample[c]['originalRateDisplay']['fees']['amount']) / checkin_numnights,2),\n",
        "              'originalRate_perNight_taxes': round(float(sample[c]['originalRateDisplay']['taxes']['amount']) / checkin_numnights,2),\n",
        "              'originalRate_perNight_totalFare': round(float(sample[c]['originalRateDisplay']['totalFare']['amount']) / checkin_numnights)\n",
        "          })    \n",
        "          continue\n",
        "        record[c] = sample[c]\n",
        "      except:\n",
        "        record[c] = '-'\n",
        "    hotels.append(record)\n",
        "  return hotels"
      ]
    },
    {
      "cell_type": "markdown",
      "source": [
        "###Scraping"
      ],
      "metadata": {
        "id": "ruHkvMiInZvS"
      }
    },
    {
      "cell_type": "code",
      "execution_count": 4,
      "metadata": {
        "colab": {
          "base_uri": "https://localhost:8080/"
        },
        "id": "Aq9AOGuT-haU",
        "outputId": "7fa2b97e-5c13-4d60-8649-e41b33cdb688"
      },
      "outputs": [
        {
          "output_type": "stream",
          "name": "stdout",
          "text": [
            "Scraping All Available Hotel Rooms, Checkin 31-12-2022, Checkout:02-01-2023, Staying nights: 2:\n",
            "\n",
            "\n",
            "JAKARTA\n",
            "preparing post ...\n",
            "preparing data collection ...\n"
          ]
        },
        {
          "output_type": "stream",
          "name": "stderr",
          "text": [
            "100%|██████████| 63/63 [00:00<00:00, 48122.59it/s]\n"
          ]
        },
        {
          "output_type": "stream",
          "name": "stdout",
          "text": [
            "\n",
            "\n",
            "BANDUNG\n",
            "preparing post ...\n",
            "preparing data collection ...\n"
          ]
        },
        {
          "output_type": "stream",
          "name": "stderr",
          "text": [
            "100%|██████████| 53/53 [00:00<00:00, 38413.36it/s]\n"
          ]
        },
        {
          "output_type": "stream",
          "name": "stdout",
          "text": [
            "\n",
            "\n",
            "MEDAN\n",
            "preparing post ...\n",
            "preparing data collection ...\n"
          ]
        },
        {
          "output_type": "stream",
          "name": "stderr",
          "text": [
            "100%|██████████| 43/43 [00:00<00:00, 12224.98it/s]"
          ]
        },
        {
          "output_type": "stream",
          "name": "stdout",
          "text": [
            "\n",
            "\n",
            "DENPASAR\n",
            "preparing post ...\n"
          ]
        },
        {
          "output_type": "stream",
          "name": "stderr",
          "text": [
            "\n"
          ]
        },
        {
          "output_type": "stream",
          "name": "stdout",
          "text": [
            "preparing data collection ...\n"
          ]
        },
        {
          "output_type": "stream",
          "name": "stderr",
          "text": [
            "100%|██████████| 1/1 [00:00<00:00, 5607.36it/s]"
          ]
        },
        {
          "output_type": "stream",
          "name": "stdout",
          "text": [
            "\n",
            "\n",
            "BANDA ACEH\n",
            "preparing post ...\n"
          ]
        },
        {
          "output_type": "stream",
          "name": "stderr",
          "text": [
            "\n"
          ]
        },
        {
          "output_type": "stream",
          "name": "stdout",
          "text": [
            "preparing data collection ...\n"
          ]
        },
        {
          "output_type": "stream",
          "name": "stderr",
          "text": [
            "100%|██████████| 28/28 [00:00<00:00, 19287.32it/s]"
          ]
        },
        {
          "output_type": "stream",
          "name": "stdout",
          "text": [
            "\n",
            "\n",
            "PADANG\n",
            "preparing post ...\n"
          ]
        },
        {
          "output_type": "stream",
          "name": "stderr",
          "text": [
            "\n"
          ]
        },
        {
          "output_type": "stream",
          "name": "stdout",
          "text": [
            "preparing data collection ...\n"
          ]
        },
        {
          "output_type": "stream",
          "name": "stderr",
          "text": [
            "100%|██████████| 40/40 [00:00<00:00, 24603.63it/s]"
          ]
        },
        {
          "output_type": "stream",
          "name": "stdout",
          "text": [
            "\n",
            "\n",
            "PALEMBANG\n",
            "preparing post ...\n"
          ]
        },
        {
          "output_type": "stream",
          "name": "stderr",
          "text": [
            "\n"
          ]
        },
        {
          "output_type": "stream",
          "name": "stdout",
          "text": [
            "preparing data collection ...\n"
          ]
        },
        {
          "output_type": "stream",
          "name": "stderr",
          "text": [
            "100%|██████████| 53/53 [00:00<00:00, 32513.98it/s]"
          ]
        },
        {
          "output_type": "stream",
          "name": "stdout",
          "text": [
            "\n",
            "\n",
            "BOGOR\n",
            "preparing post ...\n"
          ]
        },
        {
          "output_type": "stream",
          "name": "stderr",
          "text": [
            "\n"
          ]
        },
        {
          "output_type": "stream",
          "name": "stdout",
          "text": [
            "preparing data collection ...\n"
          ]
        },
        {
          "output_type": "stream",
          "name": "stderr",
          "text": [
            "100%|██████████| 33/33 [00:00<00:00, 15511.83it/s]"
          ]
        },
        {
          "output_type": "stream",
          "name": "stdout",
          "text": [
            "\n",
            "\n",
            "SEMARANG\n",
            "preparing post ...\n"
          ]
        },
        {
          "output_type": "stream",
          "name": "stderr",
          "text": [
            "\n"
          ]
        },
        {
          "output_type": "stream",
          "name": "stdout",
          "text": [
            "preparing data collection ...\n"
          ]
        },
        {
          "output_type": "stream",
          "name": "stderr",
          "text": [
            "100%|██████████| 24/24 [00:00<00:00, 9236.86it/s]"
          ]
        },
        {
          "output_type": "stream",
          "name": "stdout",
          "text": [
            "\n",
            "\n",
            "YOGYAKARTA\n",
            "preparing post ...\n"
          ]
        },
        {
          "output_type": "stream",
          "name": "stderr",
          "text": [
            "\n"
          ]
        },
        {
          "output_type": "stream",
          "name": "stdout",
          "text": [
            "preparing data collection ...\n"
          ]
        },
        {
          "output_type": "stream",
          "name": "stderr",
          "text": [
            "100%|██████████| 51/51 [00:00<00:00, 10938.86it/s]"
          ]
        },
        {
          "output_type": "stream",
          "name": "stdout",
          "text": [
            "\n",
            "\n",
            "SOLO\n",
            "preparing post ...\n"
          ]
        },
        {
          "output_type": "stream",
          "name": "stderr",
          "text": [
            "\n"
          ]
        },
        {
          "output_type": "stream",
          "name": "stdout",
          "text": [
            "preparing data collection ...\n"
          ]
        },
        {
          "output_type": "stream",
          "name": "stderr",
          "text": [
            "100%|██████████| 32/32 [00:00<00:00, 13374.96it/s]"
          ]
        },
        {
          "output_type": "stream",
          "name": "stdout",
          "text": [
            "\n",
            "\n",
            "SURABAYA\n",
            "preparing post ...\n"
          ]
        },
        {
          "output_type": "stream",
          "name": "stderr",
          "text": [
            "\n"
          ]
        },
        {
          "output_type": "stream",
          "name": "stdout",
          "text": [
            "preparing data collection ...\n"
          ]
        },
        {
          "output_type": "stream",
          "name": "stderr",
          "text": [
            "100%|██████████| 53/53 [00:00<00:00, 11641.08it/s]"
          ]
        },
        {
          "output_type": "stream",
          "name": "stdout",
          "text": [
            "\n",
            "\n",
            "Num of obtained records: 904\n",
            "\n"
          ]
        },
        {
          "output_type": "stream",
          "name": "stderr",
          "text": [
            "\n"
          ]
        }
      ],
      "source": [
        "# new year reservation\n",
        "curyear = date.today().year # current year\n",
        "startdd, startmm = 31, 12 # check in date and month\n",
        "enddd, endmm = 2, 1 # check out date and month\n",
        "\n",
        "# new year staying range\n",
        "startdate = padNumber(startdd) + '-' + padNumber(startmm) + '-' + str(curyear)\n",
        "enddate = padNumber(enddd) + '-' + padNumber(endmm) + '-' + str(curyear+1)\n",
        "\n",
        "# number of staying night(s)\n",
        "checkin_numnights = (dt.strptime(enddate, '%d-%m-%Y')-dt.strptime(startdate, '%d-%m-%Y')).days\n",
        "\n",
        "\n",
        "# data columns to be extracted\n",
        "columns = ['id','name', 'displayName', 'region', 'starRating', 'userRating','numReviews','userRatingInfo',\n",
        "           'latitude','longitude','lowRate','highRate',\n",
        "           'hotelFeatures','hotelSeoUrl','hotelInventorySummary']\n",
        "\n",
        "print(f'Scraping All Available Hotel Rooms, Checkin {startdate}, Checkout:{enddate}, Staying nights: {checkin_numnights}:')\n",
        "print()\n",
        "\n",
        "for city in city_geocodes.keys():\n",
        "  print()\n",
        "  geocode = city_geocodes[city]\n",
        "  print(city.upper())\n",
        "\n",
        "  # referer url\n",
        "  referer_url = f'https://www.traveloka.com/id-id/hotel/search?spec={startdate}.{enddate}.1.1.HOTEL_GEO.{geocode}.{quote(city)}.2'\n",
        "\n",
        "  # headers\n",
        "  headers = {\n",
        "      'content-type': 'application/json',\n",
        "      'cookie': '_gcl_au=1.1.141782728.1670394296; _gac_UA-29776811-12=1.1670394296.Cj0KCQiA7bucBhCeARIsAIOwr-9NHNVdQqtQnRrovoGHLpACWxlx50k6KyMR6yMRUacNvmsKp_P3V7EaAsihEALw_wcB; tv-repeat-visit=true; _gid=GA1.2.137383459.1672284459; g_state={\"i_l\":1,\"i_p\":1672291669115}; _ga=GA1.1.1144801166.1670394296; amp_1a5adb=lmXek5GnRbmDVMBIye772l...1gldunjc7.1gldup1ge.c.0.c; tvl=qgdHX7GvehrD9XH5a3S4PdE8AYpuF3hYPaT5bxhY7ZYlTfL+WyvcrSI/VxnhD+GdIauD2fuQAp48xn5SOy61CcGKsORldom9dTN23+66MAYIHEn0dmPxsmhM3nEpAG8sgD1ega4KxIBCDYlQGDuVKUzPw3pNExw5Cd1OxjjrNg3vlyHfFnPptZUxAgMVwRNSCMYWUJplNNMY2P4/83O9X+8GNrPf8Ng75ZieUaJama8=; tvs=qgdHX7GvehrD9XH5a3S4PWL3Nd74xArIuT+JzcRMbKddQHovERAJ9HWRLrAaZ0jPhWj5HSxm0ZKiRbldET1ham2PeYg1sQr2h/wIBjIyPQ1JQfOnq9PrXiJXCb7pG+GuL55zGx9BHnW6AktSohrCEcVZJJEBlMy+/xGmAFjHYdanG44/La0X6wsaDJDc5dQI3jW7f6f85zK7XA1xLrLbn3wpMY91AYFzJ6h8za/vSrng40uUoDT+qJIv0oQGNB1A; _fbp=fb.1.1672284509886.851897136; cto_bundle=LLTD719vOXhjJTJCWjlPeGhpNUJ1VEVFdHpLdUVraHZLa1Fkem44UDZ4R3FlNnRIcGhuaG8zSWhlVFd4TyUyRm5JOVUlMkZTSGJVZ2UyaDVsVWVzWm9ETlBRSTRweTlGRDg2eE81WnVHNXhzJTJGNkZsaVRlTzRHUGVzQ2llQTFXbVN0a3B2OXBSdWpXYWR5cXU5SGpjZTQ5SFk5dzRqR2NwUSUzRCUzRA; _ga_RSRSMMBH0X=GS1.1.1672284458.2.1.1672284554.60.0.0',\n",
        "      'origin': 'https://www.traveloka.com',\n",
        "      'referer': referer_url,\n",
        "      'user-agent': 'Mozilla/5.0 (Windows NT 10.0; Win64; x64) AppleWebKit/537.36 (KHTML, like Gecko) Chrome/108.0.0.0 Safari/537.36',\n",
        "      'x-domain': 'accomSearch',\n",
        "      'x-route-prefix': 'id-id'    \n",
        "  }\n",
        "\n",
        "  # payload\n",
        "  payload = '{\"fields\":[],\"data\":{\"checkInDate\":{\"year\":\"'+startdate.split('-')[-1]+'\",\"month\":\"'+str(startmm)+'\",\"day\":\"'+str(startdd)+'\"},\"checkOutDate\":{\"year\":\"'+enddate.split('-')[-1]+'\",\"month\":\"'+str(endmm)+'\",\"day\":\"'+str(enddd)+'\"},\"numOfNights\":'+str(checkin_numnights)+',\"currency\":\"IDR\",\"numAdults\":1,\"numChildren\":0,\"childAges\":[],\"numInfants\":0,\"numRooms\":1,\"ccGuaranteeOptions\":{\"ccInfoPreferences\":[\"CC_TOKEN\",\"CC_FULL_INFO\"],\"ccGuaranteeRequirementOptions\":[\"CC_GUARANTEE\"]},\"rateTypes\":[\"PAY_NOW\",\"PAY_AT_PROPERTY\"],\"isJustLogin\":false,\"backdate\":false,\"geoId\":\"'+str(geocode)+'\",\"monitoringSpec\":{\"lastKeyword\":\"'+city+'\",\"referrer\":\"'+referer_url+'\",\"searchId\":null,\"searchFunnelType\":null,\"isPriceFinderActive\":null,\"dateIndicator\":null,\"bannerMessage\":\"\",\"displayPrice\":null},\"showHidden\":false,\"locationName\":\"'+city+'\",\"sourceType\":\"HOTEL_GEO\",\"isExtraBedIncluded\":true,\"isUseHotelSearchListAPI\":true,\"supportedDisplayTypes\":[\"INVENTORY\",\"INVENTORY_LIST\",\"HEADER\",\"INVENTORY_WITH_HEADER\"],\"userSearchPreferences\":[],\"uniqueSearchId\":null,\"basicFilterSortSpec\":{\"basicSortType\":\"POPULARITY\",\"ascending\":false,\"criteriaFilterSortSpec\":null,\"accommodationTypeFilter\":[],\"starRatingFilter\":[true,true,true,true,true],\"facilityFilter\":[],\"hasFreeCancellationRooms\":false,\"minPriceFilter\":null,\"maxPriceFilter\":null,\"quickFilterId\":null,\"skip\":0,\"top\":100},\"criteriaFilterSortSpec\":null,\"boundaries\":null,\"contexts\":{\"isFamilyCheckbox\":false}},\"clientInterface\":\"desktop\"}'\n",
        "  \n",
        "  # try:\n",
        "  print('preparing post ...')\n",
        "  page = requests.post(api_url, headers=headers, json=json.loads(payload))\n",
        "  print('preparing data collection ...')\n",
        "  response = json.loads(page.text)\n",
        "  _data_ += collectData(response)\n",
        "  print()\n",
        "  # except:\n",
        "    # print(f'Error: Failed to Extract Data\\n Error: {page}')\n",
        "    # print('detail Error:')\n",
        "    # print(page.text)\n",
        "    # break\n",
        "\n",
        "  \n",
        "print()\n",
        "print(f'Num of obtained records: {len(_data_)}')\n",
        "print()\n"
      ]
    },
    {
      "cell_type": "markdown",
      "source": [
        "###Scraping Result Checks"
      ],
      "metadata": {
        "id": "HdFyrU3toXol"
      }
    },
    {
      "cell_type": "code",
      "execution_count": 5,
      "metadata": {
        "colab": {
          "base_uri": "https://localhost:8080/",
          "height": 525
        },
        "id": "HR8Xm1t5LAyl",
        "outputId": "24973241-3046-4893-ab36-9efd9c8a5525"
      },
      "outputs": [
        {
          "output_type": "execute_result",
          "data": {
            "text/plain": [
              "                   timestamp     city     checkin    checkout  \\\n",
              "0 2022-12-29 20:41:15.405526  Jakarta  30-12-2022  02-01-2023   \n",
              "1 2022-12-29 20:41:15.405705  Jakarta  30-12-2022  02-01-2023   \n",
              "2 2022-12-29 20:41:15.405741  Jakarta  30-12-2022  02-01-2023   \n",
              "3 2022-12-29 20:41:15.405779  Jakarta  30-12-2022  02-01-2023   \n",
              "4 2022-12-29 20:41:15.405806  Jakarta  30-12-2022  02-01-2023   \n",
              "\n",
              "   num_staying_nights             id                                  name  \\\n",
              "0                   3          62303  The Sultan Hotel & Residence Jakarta   \n",
              "1                   3  2000000141144               Aryaduta Suite Semanggi   \n",
              "2                   3  9000000952972                   Aloft South Jakarta   \n",
              "3                   3  9000000971405                  The Langham, Jakarta   \n",
              "4                   3           4755          Hotel Mulia Senayan, Jakarta   \n",
              "\n",
              "                    displayName                   region starRating  ...  \\\n",
              "0      The Sultan Hotel Jakarta         Senayan, Jakarta        5.0  ...   \n",
              "1       Aryaduta Suite Semanggi  Karet Semanggi, Jakarta        4.0  ...   \n",
              "2           Aloft South Jakarta  Cilandak Timur, Jakarta        4.0  ...   \n",
              "3          The Langham, Jakarta         Senayan, Jakarta        5.0  ...   \n",
              "4  Hotel Mulia Senayan, Jakarta         Senayan, Jakarta        5.0  ...   \n",
              "\n",
              "  cheapestRate_perNight_taxes cheapestRate_perNight_totalFare  \\\n",
              "0                   415100.00                         2391767   \n",
              "1                   416665.33                         2400787   \n",
              "2                        0.00                         1294700   \n",
              "3                  1358931.00                         7830031   \n",
              "4                   945000.00                         5445000   \n",
              "\n",
              "  originalRate_allNights_baseFare originalRate_allNights_fees  \\\n",
              "0                         6300000                           0   \n",
              "1                         6196051                           0   \n",
              "2                         4280000                      898800   \n",
              "3                        25884400                           0   \n",
              "4                        17999999                           0   \n",
              "\n",
              "  originalRate_allNights_taxes originalRate_allNights_totalFare  \\\n",
              "0                      1323000                          7623000   \n",
              "1                      1301171                          7497222   \n",
              "2                            0                          5178800   \n",
              "3                      5435724                         31320124   \n",
              "4                      3780000                         21779999   \n",
              "\n",
              "  originalRate_perNight_baseFare originalRate_perNight_fees  \\\n",
              "0                        2100000                        0.0   \n",
              "1                        2065350                        0.0   \n",
              "2                        1426666                   299600.0   \n",
              "3                        8628133                        0.0   \n",
              "4                        5999999                        0.0   \n",
              "\n",
              "  originalRate_perNight_taxes originalRate_perNight_totalFare  \n",
              "0                   441000.00                         2541000  \n",
              "1                   433723.67                         2499074  \n",
              "2                        0.00                         1726267  \n",
              "3                  1811908.00                        10440041  \n",
              "4                  1260000.00                         7260000  \n",
              "\n",
              "[5 rows x 35 columns]"
            ],
            "text/html": [
              "\n",
              "  <div id=\"df-c7bb34c4-ffc6-4333-82e6-5ba9ca3b2a73\">\n",
              "    <div class=\"colab-df-container\">\n",
              "      <div>\n",
              "<style scoped>\n",
              "    .dataframe tbody tr th:only-of-type {\n",
              "        vertical-align: middle;\n",
              "    }\n",
              "\n",
              "    .dataframe tbody tr th {\n",
              "        vertical-align: top;\n",
              "    }\n",
              "\n",
              "    .dataframe thead th {\n",
              "        text-align: right;\n",
              "    }\n",
              "</style>\n",
              "<table border=\"1\" class=\"dataframe\">\n",
              "  <thead>\n",
              "    <tr style=\"text-align: right;\">\n",
              "      <th></th>\n",
              "      <th>timestamp</th>\n",
              "      <th>city</th>\n",
              "      <th>checkin</th>\n",
              "      <th>checkout</th>\n",
              "      <th>num_staying_nights</th>\n",
              "      <th>id</th>\n",
              "      <th>name</th>\n",
              "      <th>displayName</th>\n",
              "      <th>region</th>\n",
              "      <th>starRating</th>\n",
              "      <th>...</th>\n",
              "      <th>cheapestRate_perNight_taxes</th>\n",
              "      <th>cheapestRate_perNight_totalFare</th>\n",
              "      <th>originalRate_allNights_baseFare</th>\n",
              "      <th>originalRate_allNights_fees</th>\n",
              "      <th>originalRate_allNights_taxes</th>\n",
              "      <th>originalRate_allNights_totalFare</th>\n",
              "      <th>originalRate_perNight_baseFare</th>\n",
              "      <th>originalRate_perNight_fees</th>\n",
              "      <th>originalRate_perNight_taxes</th>\n",
              "      <th>originalRate_perNight_totalFare</th>\n",
              "    </tr>\n",
              "  </thead>\n",
              "  <tbody>\n",
              "    <tr>\n",
              "      <th>0</th>\n",
              "      <td>2022-12-29 20:41:15.405526</td>\n",
              "      <td>Jakarta</td>\n",
              "      <td>30-12-2022</td>\n",
              "      <td>02-01-2023</td>\n",
              "      <td>3</td>\n",
              "      <td>62303</td>\n",
              "      <td>The Sultan Hotel &amp; Residence Jakarta</td>\n",
              "      <td>The Sultan Hotel Jakarta</td>\n",
              "      <td>Senayan, Jakarta</td>\n",
              "      <td>5.0</td>\n",
              "      <td>...</td>\n",
              "      <td>415100.00</td>\n",
              "      <td>2391767</td>\n",
              "      <td>6300000</td>\n",
              "      <td>0</td>\n",
              "      <td>1323000</td>\n",
              "      <td>7623000</td>\n",
              "      <td>2100000</td>\n",
              "      <td>0.0</td>\n",
              "      <td>441000.00</td>\n",
              "      <td>2541000</td>\n",
              "    </tr>\n",
              "    <tr>\n",
              "      <th>1</th>\n",
              "      <td>2022-12-29 20:41:15.405705</td>\n",
              "      <td>Jakarta</td>\n",
              "      <td>30-12-2022</td>\n",
              "      <td>02-01-2023</td>\n",
              "      <td>3</td>\n",
              "      <td>2000000141144</td>\n",
              "      <td>Aryaduta Suite Semanggi</td>\n",
              "      <td>Aryaduta Suite Semanggi</td>\n",
              "      <td>Karet Semanggi, Jakarta</td>\n",
              "      <td>4.0</td>\n",
              "      <td>...</td>\n",
              "      <td>416665.33</td>\n",
              "      <td>2400787</td>\n",
              "      <td>6196051</td>\n",
              "      <td>0</td>\n",
              "      <td>1301171</td>\n",
              "      <td>7497222</td>\n",
              "      <td>2065350</td>\n",
              "      <td>0.0</td>\n",
              "      <td>433723.67</td>\n",
              "      <td>2499074</td>\n",
              "    </tr>\n",
              "    <tr>\n",
              "      <th>2</th>\n",
              "      <td>2022-12-29 20:41:15.405741</td>\n",
              "      <td>Jakarta</td>\n",
              "      <td>30-12-2022</td>\n",
              "      <td>02-01-2023</td>\n",
              "      <td>3</td>\n",
              "      <td>9000000952972</td>\n",
              "      <td>Aloft South Jakarta</td>\n",
              "      <td>Aloft South Jakarta</td>\n",
              "      <td>Cilandak Timur, Jakarta</td>\n",
              "      <td>4.0</td>\n",
              "      <td>...</td>\n",
              "      <td>0.00</td>\n",
              "      <td>1294700</td>\n",
              "      <td>4280000</td>\n",
              "      <td>898800</td>\n",
              "      <td>0</td>\n",
              "      <td>5178800</td>\n",
              "      <td>1426666</td>\n",
              "      <td>299600.0</td>\n",
              "      <td>0.00</td>\n",
              "      <td>1726267</td>\n",
              "    </tr>\n",
              "    <tr>\n",
              "      <th>3</th>\n",
              "      <td>2022-12-29 20:41:15.405779</td>\n",
              "      <td>Jakarta</td>\n",
              "      <td>30-12-2022</td>\n",
              "      <td>02-01-2023</td>\n",
              "      <td>3</td>\n",
              "      <td>9000000971405</td>\n",
              "      <td>The Langham, Jakarta</td>\n",
              "      <td>The Langham, Jakarta</td>\n",
              "      <td>Senayan, Jakarta</td>\n",
              "      <td>5.0</td>\n",
              "      <td>...</td>\n",
              "      <td>1358931.00</td>\n",
              "      <td>7830031</td>\n",
              "      <td>25884400</td>\n",
              "      <td>0</td>\n",
              "      <td>5435724</td>\n",
              "      <td>31320124</td>\n",
              "      <td>8628133</td>\n",
              "      <td>0.0</td>\n",
              "      <td>1811908.00</td>\n",
              "      <td>10440041</td>\n",
              "    </tr>\n",
              "    <tr>\n",
              "      <th>4</th>\n",
              "      <td>2022-12-29 20:41:15.405806</td>\n",
              "      <td>Jakarta</td>\n",
              "      <td>30-12-2022</td>\n",
              "      <td>02-01-2023</td>\n",
              "      <td>3</td>\n",
              "      <td>4755</td>\n",
              "      <td>Hotel Mulia Senayan, Jakarta</td>\n",
              "      <td>Hotel Mulia Senayan, Jakarta</td>\n",
              "      <td>Senayan, Jakarta</td>\n",
              "      <td>5.0</td>\n",
              "      <td>...</td>\n",
              "      <td>945000.00</td>\n",
              "      <td>5445000</td>\n",
              "      <td>17999999</td>\n",
              "      <td>0</td>\n",
              "      <td>3780000</td>\n",
              "      <td>21779999</td>\n",
              "      <td>5999999</td>\n",
              "      <td>0.0</td>\n",
              "      <td>1260000.00</td>\n",
              "      <td>7260000</td>\n",
              "    </tr>\n",
              "  </tbody>\n",
              "</table>\n",
              "<p>5 rows × 35 columns</p>\n",
              "</div>\n",
              "      <button class=\"colab-df-convert\" onclick=\"convertToInteractive('df-c7bb34c4-ffc6-4333-82e6-5ba9ca3b2a73')\"\n",
              "              title=\"Convert this dataframe to an interactive table.\"\n",
              "              style=\"display:none;\">\n",
              "        \n",
              "  <svg xmlns=\"http://www.w3.org/2000/svg\" height=\"24px\"viewBox=\"0 0 24 24\"\n",
              "       width=\"24px\">\n",
              "    <path d=\"M0 0h24v24H0V0z\" fill=\"none\"/>\n",
              "    <path d=\"M18.56 5.44l.94 2.06.94-2.06 2.06-.94-2.06-.94-.94-2.06-.94 2.06-2.06.94zm-11 1L8.5 8.5l.94-2.06 2.06-.94-2.06-.94L8.5 2.5l-.94 2.06-2.06.94zm10 10l.94 2.06.94-2.06 2.06-.94-2.06-.94-.94-2.06-.94 2.06-2.06.94z\"/><path d=\"M17.41 7.96l-1.37-1.37c-.4-.4-.92-.59-1.43-.59-.52 0-1.04.2-1.43.59L10.3 9.45l-7.72 7.72c-.78.78-.78 2.05 0 2.83L4 21.41c.39.39.9.59 1.41.59.51 0 1.02-.2 1.41-.59l7.78-7.78 2.81-2.81c.8-.78.8-2.07 0-2.86zM5.41 20L4 18.59l7.72-7.72 1.47 1.35L5.41 20z\"/>\n",
              "  </svg>\n",
              "      </button>\n",
              "      \n",
              "  <style>\n",
              "    .colab-df-container {\n",
              "      display:flex;\n",
              "      flex-wrap:wrap;\n",
              "      gap: 12px;\n",
              "    }\n",
              "\n",
              "    .colab-df-convert {\n",
              "      background-color: #E8F0FE;\n",
              "      border: none;\n",
              "      border-radius: 50%;\n",
              "      cursor: pointer;\n",
              "      display: none;\n",
              "      fill: #1967D2;\n",
              "      height: 32px;\n",
              "      padding: 0 0 0 0;\n",
              "      width: 32px;\n",
              "    }\n",
              "\n",
              "    .colab-df-convert:hover {\n",
              "      background-color: #E2EBFA;\n",
              "      box-shadow: 0px 1px 2px rgba(60, 64, 67, 0.3), 0px 1px 3px 1px rgba(60, 64, 67, 0.15);\n",
              "      fill: #174EA6;\n",
              "    }\n",
              "\n",
              "    [theme=dark] .colab-df-convert {\n",
              "      background-color: #3B4455;\n",
              "      fill: #D2E3FC;\n",
              "    }\n",
              "\n",
              "    [theme=dark] .colab-df-convert:hover {\n",
              "      background-color: #434B5C;\n",
              "      box-shadow: 0px 1px 3px 1px rgba(0, 0, 0, 0.15);\n",
              "      filter: drop-shadow(0px 1px 2px rgba(0, 0, 0, 0.3));\n",
              "      fill: #FFFFFF;\n",
              "    }\n",
              "  </style>\n",
              "\n",
              "      <script>\n",
              "        const buttonEl =\n",
              "          document.querySelector('#df-c7bb34c4-ffc6-4333-82e6-5ba9ca3b2a73 button.colab-df-convert');\n",
              "        buttonEl.style.display =\n",
              "          google.colab.kernel.accessAllowed ? 'block' : 'none';\n",
              "\n",
              "        async function convertToInteractive(key) {\n",
              "          const element = document.querySelector('#df-c7bb34c4-ffc6-4333-82e6-5ba9ca3b2a73');\n",
              "          const dataTable =\n",
              "            await google.colab.kernel.invokeFunction('convertToInteractive',\n",
              "                                                     [key], {});\n",
              "          if (!dataTable) return;\n",
              "\n",
              "          const docLinkHtml = 'Like what you see? Visit the ' +\n",
              "            '<a target=\"_blank\" href=https://colab.research.google.com/notebooks/data_table.ipynb>data table notebook</a>'\n",
              "            + ' to learn more about interactive tables.';\n",
              "          element.innerHTML = '';\n",
              "          dataTable['output_type'] = 'display_data';\n",
              "          await google.colab.output.renderOutput(dataTable, element);\n",
              "          const docLink = document.createElement('div');\n",
              "          docLink.innerHTML = docLinkHtml;\n",
              "          element.appendChild(docLink);\n",
              "        }\n",
              "      </script>\n",
              "    </div>\n",
              "  </div>\n",
              "  "
            ]
          },
          "metadata": {},
          "execution_count": 5
        }
      ],
      "source": [
        "df = pd.DataFrame(_data_)\n",
        "df.head()"
      ]
    },
    {
      "cell_type": "code",
      "source": [
        "df.groupby(['checkin','city'])['city'].agg(['count'])"
      ],
      "metadata": {
        "colab": {
          "base_uri": "https://localhost:8080/",
          "height": 833
        },
        "id": "OPdLbw08jbEW",
        "outputId": "6aacd5b8-4514-4c76-e9eb-d0d014d4d0e0"
      },
      "execution_count": 14,
      "outputs": [
        {
          "output_type": "execute_result",
          "data": {
            "text/plain": [
              "                       count\n",
              "checkin    city             \n",
              "30-12-2022 Banda Aceh     25\n",
              "           Bandung        49\n",
              "           Bogor          25\n",
              "           Denpasar        1\n",
              "           Jakarta        58\n",
              "           Medan          41\n",
              "           Padang         33\n",
              "           Palembang      51\n",
              "           Semarang       19\n",
              "           Solo           31\n",
              "           Surabaya       54\n",
              "           Yogyakarta     43\n",
              "31-12-2022 Banda Aceh     28\n",
              "           Bandung        53\n",
              "           Bogor          33\n",
              "           Denpasar        1\n",
              "           Jakarta        63\n",
              "           Medan          43\n",
              "           Padang         40\n",
              "           Palembang      53\n",
              "           Semarang       24\n",
              "           Solo           32\n",
              "           Surabaya       53\n",
              "           Yogyakarta     51"
            ],
            "text/html": [
              "\n",
              "  <div id=\"df-84e1d0ee-9947-4f78-93ea-d568abde7a47\">\n",
              "    <div class=\"colab-df-container\">\n",
              "      <div>\n",
              "<style scoped>\n",
              "    .dataframe tbody tr th:only-of-type {\n",
              "        vertical-align: middle;\n",
              "    }\n",
              "\n",
              "    .dataframe tbody tr th {\n",
              "        vertical-align: top;\n",
              "    }\n",
              "\n",
              "    .dataframe thead th {\n",
              "        text-align: right;\n",
              "    }\n",
              "</style>\n",
              "<table border=\"1\" class=\"dataframe\">\n",
              "  <thead>\n",
              "    <tr style=\"text-align: right;\">\n",
              "      <th></th>\n",
              "      <th></th>\n",
              "      <th>count</th>\n",
              "    </tr>\n",
              "    <tr>\n",
              "      <th>checkin</th>\n",
              "      <th>city</th>\n",
              "      <th></th>\n",
              "    </tr>\n",
              "  </thead>\n",
              "  <tbody>\n",
              "    <tr>\n",
              "      <th rowspan=\"12\" valign=\"top\">30-12-2022</th>\n",
              "      <th>Banda Aceh</th>\n",
              "      <td>25</td>\n",
              "    </tr>\n",
              "    <tr>\n",
              "      <th>Bandung</th>\n",
              "      <td>49</td>\n",
              "    </tr>\n",
              "    <tr>\n",
              "      <th>Bogor</th>\n",
              "      <td>25</td>\n",
              "    </tr>\n",
              "    <tr>\n",
              "      <th>Denpasar</th>\n",
              "      <td>1</td>\n",
              "    </tr>\n",
              "    <tr>\n",
              "      <th>Jakarta</th>\n",
              "      <td>58</td>\n",
              "    </tr>\n",
              "    <tr>\n",
              "      <th>Medan</th>\n",
              "      <td>41</td>\n",
              "    </tr>\n",
              "    <tr>\n",
              "      <th>Padang</th>\n",
              "      <td>33</td>\n",
              "    </tr>\n",
              "    <tr>\n",
              "      <th>Palembang</th>\n",
              "      <td>51</td>\n",
              "    </tr>\n",
              "    <tr>\n",
              "      <th>Semarang</th>\n",
              "      <td>19</td>\n",
              "    </tr>\n",
              "    <tr>\n",
              "      <th>Solo</th>\n",
              "      <td>31</td>\n",
              "    </tr>\n",
              "    <tr>\n",
              "      <th>Surabaya</th>\n",
              "      <td>54</td>\n",
              "    </tr>\n",
              "    <tr>\n",
              "      <th>Yogyakarta</th>\n",
              "      <td>43</td>\n",
              "    </tr>\n",
              "    <tr>\n",
              "      <th rowspan=\"12\" valign=\"top\">31-12-2022</th>\n",
              "      <th>Banda Aceh</th>\n",
              "      <td>28</td>\n",
              "    </tr>\n",
              "    <tr>\n",
              "      <th>Bandung</th>\n",
              "      <td>53</td>\n",
              "    </tr>\n",
              "    <tr>\n",
              "      <th>Bogor</th>\n",
              "      <td>33</td>\n",
              "    </tr>\n",
              "    <tr>\n",
              "      <th>Denpasar</th>\n",
              "      <td>1</td>\n",
              "    </tr>\n",
              "    <tr>\n",
              "      <th>Jakarta</th>\n",
              "      <td>63</td>\n",
              "    </tr>\n",
              "    <tr>\n",
              "      <th>Medan</th>\n",
              "      <td>43</td>\n",
              "    </tr>\n",
              "    <tr>\n",
              "      <th>Padang</th>\n",
              "      <td>40</td>\n",
              "    </tr>\n",
              "    <tr>\n",
              "      <th>Palembang</th>\n",
              "      <td>53</td>\n",
              "    </tr>\n",
              "    <tr>\n",
              "      <th>Semarang</th>\n",
              "      <td>24</td>\n",
              "    </tr>\n",
              "    <tr>\n",
              "      <th>Solo</th>\n",
              "      <td>32</td>\n",
              "    </tr>\n",
              "    <tr>\n",
              "      <th>Surabaya</th>\n",
              "      <td>53</td>\n",
              "    </tr>\n",
              "    <tr>\n",
              "      <th>Yogyakarta</th>\n",
              "      <td>51</td>\n",
              "    </tr>\n",
              "  </tbody>\n",
              "</table>\n",
              "</div>\n",
              "      <button class=\"colab-df-convert\" onclick=\"convertToInteractive('df-84e1d0ee-9947-4f78-93ea-d568abde7a47')\"\n",
              "              title=\"Convert this dataframe to an interactive table.\"\n",
              "              style=\"display:none;\">\n",
              "        \n",
              "  <svg xmlns=\"http://www.w3.org/2000/svg\" height=\"24px\"viewBox=\"0 0 24 24\"\n",
              "       width=\"24px\">\n",
              "    <path d=\"M0 0h24v24H0V0z\" fill=\"none\"/>\n",
              "    <path d=\"M18.56 5.44l.94 2.06.94-2.06 2.06-.94-2.06-.94-.94-2.06-.94 2.06-2.06.94zm-11 1L8.5 8.5l.94-2.06 2.06-.94-2.06-.94L8.5 2.5l-.94 2.06-2.06.94zm10 10l.94 2.06.94-2.06 2.06-.94-2.06-.94-.94-2.06-.94 2.06-2.06.94z\"/><path d=\"M17.41 7.96l-1.37-1.37c-.4-.4-.92-.59-1.43-.59-.52 0-1.04.2-1.43.59L10.3 9.45l-7.72 7.72c-.78.78-.78 2.05 0 2.83L4 21.41c.39.39.9.59 1.41.59.51 0 1.02-.2 1.41-.59l7.78-7.78 2.81-2.81c.8-.78.8-2.07 0-2.86zM5.41 20L4 18.59l7.72-7.72 1.47 1.35L5.41 20z\"/>\n",
              "  </svg>\n",
              "      </button>\n",
              "      \n",
              "  <style>\n",
              "    .colab-df-container {\n",
              "      display:flex;\n",
              "      flex-wrap:wrap;\n",
              "      gap: 12px;\n",
              "    }\n",
              "\n",
              "    .colab-df-convert {\n",
              "      background-color: #E8F0FE;\n",
              "      border: none;\n",
              "      border-radius: 50%;\n",
              "      cursor: pointer;\n",
              "      display: none;\n",
              "      fill: #1967D2;\n",
              "      height: 32px;\n",
              "      padding: 0 0 0 0;\n",
              "      width: 32px;\n",
              "    }\n",
              "\n",
              "    .colab-df-convert:hover {\n",
              "      background-color: #E2EBFA;\n",
              "      box-shadow: 0px 1px 2px rgba(60, 64, 67, 0.3), 0px 1px 3px 1px rgba(60, 64, 67, 0.15);\n",
              "      fill: #174EA6;\n",
              "    }\n",
              "\n",
              "    [theme=dark] .colab-df-convert {\n",
              "      background-color: #3B4455;\n",
              "      fill: #D2E3FC;\n",
              "    }\n",
              "\n",
              "    [theme=dark] .colab-df-convert:hover {\n",
              "      background-color: #434B5C;\n",
              "      box-shadow: 0px 1px 3px 1px rgba(0, 0, 0, 0.15);\n",
              "      filter: drop-shadow(0px 1px 2px rgba(0, 0, 0, 0.3));\n",
              "      fill: #FFFFFF;\n",
              "    }\n",
              "  </style>\n",
              "\n",
              "      <script>\n",
              "        const buttonEl =\n",
              "          document.querySelector('#df-84e1d0ee-9947-4f78-93ea-d568abde7a47 button.colab-df-convert');\n",
              "        buttonEl.style.display =\n",
              "          google.colab.kernel.accessAllowed ? 'block' : 'none';\n",
              "\n",
              "        async function convertToInteractive(key) {\n",
              "          const element = document.querySelector('#df-84e1d0ee-9947-4f78-93ea-d568abde7a47');\n",
              "          const dataTable =\n",
              "            await google.colab.kernel.invokeFunction('convertToInteractive',\n",
              "                                                     [key], {});\n",
              "          if (!dataTable) return;\n",
              "\n",
              "          const docLinkHtml = 'Like what you see? Visit the ' +\n",
              "            '<a target=\"_blank\" href=https://colab.research.google.com/notebooks/data_table.ipynb>data table notebook</a>'\n",
              "            + ' to learn more about interactive tables.';\n",
              "          element.innerHTML = '';\n",
              "          dataTable['output_type'] = 'display_data';\n",
              "          await google.colab.output.renderOutput(dataTable, element);\n",
              "          const docLink = document.createElement('div');\n",
              "          docLink.innerHTML = docLinkHtml;\n",
              "          element.appendChild(docLink);\n",
              "        }\n",
              "      </script>\n",
              "    </div>\n",
              "  </div>\n",
              "  "
            ]
          },
          "metadata": {},
          "execution_count": 14
        }
      ]
    },
    {
      "cell_type": "code",
      "source": [
        "len(df)"
      ],
      "metadata": {
        "colab": {
          "base_uri": "https://localhost:8080/"
        },
        "id": "IzQkFMwFpHjn",
        "outputId": "0ea6e0a9-2962-4bfc-9e1f-a14bc334d994"
      },
      "execution_count": 15,
      "outputs": [
        {
          "output_type": "execute_result",
          "data": {
            "text/plain": [
              "904"
            ]
          },
          "metadata": {},
          "execution_count": 15
        }
      ]
    },
    {
      "cell_type": "markdown",
      "source": [
        "###Export Result"
      ],
      "metadata": {
        "id": "7l2pXpr7pJSc"
      }
    },
    {
      "cell_type": "code",
      "source": [
        "df.to_csv('traveloka_newyearhotels.csv', sep='|', index=False)"
      ],
      "metadata": {
        "id": "trer-5wvpLKu"
      },
      "execution_count": 16,
      "outputs": []
    }
  ],
  "metadata": {
    "colab": {
      "provenance": [],
      "authorship_tag": "ABX9TyNpUV6uzTB1Y4vVEMGg0kWt",
      "include_colab_link": true
    },
    "kernelspec": {
      "display_name": "Python 3",
      "name": "python3"
    },
    "language_info": {
      "name": "python"
    }
  },
  "nbformat": 4,
  "nbformat_minor": 0
}